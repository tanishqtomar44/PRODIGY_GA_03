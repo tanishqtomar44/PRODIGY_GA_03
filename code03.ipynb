{
 "cells": [
  {
   "cell_type": "code",
   "execution_count": 1,
   "id": "0c84cd42",
   "metadata": {
    "execution": {
     "iopub.execute_input": "2025-05-10T15:53:52.066339Z",
     "iopub.status.busy": "2025-05-10T15:53:52.066105Z",
     "iopub.status.idle": "2025-05-10T15:53:53.534710Z",
     "shell.execute_reply": "2025-05-10T15:53:53.533937Z"
    },
    "papermill": {
     "duration": 1.472299,
     "end_time": "2025-05-10T15:53:53.536037",
     "exception": false,
     "start_time": "2025-05-10T15:53:52.063738",
     "status": "completed"
    },
    "tags": []
   },
   "outputs": [
    {
     "name": "stdout",
     "output_type": "stream",
     "text": [
      "Total Words: 27628\n"
     ]
    }
   ],
   "source": [
    "import numpy as np\n",
    "import pandas as pd\n",
    "import random\n",
    "import re\n",
    "with open('/kaggle/input/next-word-predictor-text-generator-dataset/next_word_predictor.txt', 'r', encoding='utf-8') as file:\n",
    "    text = file.read()\n",
    "\n",
    "def clean_text(txt):\n",
    "    txt = re.sub(r'\\s+', ' ', txt)\n",
    "    txt = re.sub(r'[^\\w\\s]', '', txt)\n",
    "    return txt.lower()\n",
    "\n",
    "cleaned_text = clean_text(text)\n",
    "words = cleaned_text.split()\n",
    "print(f\"Total Words: {len(words)}\")\n",
    "cleaned_text = clean_text(text)\n"
   ]
  },
  {
   "cell_type": "code",
   "execution_count": 2,
   "id": "134ea23e",
   "metadata": {
    "execution": {
     "iopub.execute_input": "2025-05-10T15:53:53.539911Z",
     "iopub.status.busy": "2025-05-10T15:53:53.539626Z",
     "iopub.status.idle": "2025-05-10T15:53:53.554452Z",
     "shell.execute_reply": "2025-05-10T15:53:53.553937Z"
    },
    "papermill": {
     "duration": 0.017772,
     "end_time": "2025-05-10T15:53:53.555442",
     "exception": false,
     "start_time": "2025-05-10T15:53:53.537670",
     "status": "completed"
    },
    "tags": []
   },
   "outputs": [],
   "source": [
    "def build_markov_chain(words, n=1):\n",
    "    markov_chain = {}\n",
    "    \n",
    "    for i in range(len(words) - n):\n",
    "        key = tuple(words[i:i + n])\n",
    "        next_word = words[i + n]\n",
    "        \n",
    "        if key not in markov_chain:\n",
    "            markov_chain[key] = []\n",
    "        markov_chain[key].append(next_word)\n",
    "        \n",
    "    return markov_chain\n",
    "chain = build_markov_chain(words, n=1)\n"
   ]
  },
  {
   "cell_type": "code",
   "execution_count": 3,
   "id": "e5b8d5a7",
   "metadata": {
    "execution": {
     "iopub.execute_input": "2025-05-10T15:53:53.558813Z",
     "iopub.status.busy": "2025-05-10T15:53:53.558436Z",
     "iopub.status.idle": "2025-05-10T15:53:53.563261Z",
     "shell.execute_reply": "2025-05-10T15:53:53.562696Z"
    },
    "papermill": {
     "duration": 0.007625,
     "end_time": "2025-05-10T15:53:53.564328",
     "exception": false,
     "start_time": "2025-05-10T15:53:53.556703",
     "status": "completed"
    },
    "tags": []
   },
   "outputs": [
    {
     "name": "stdout",
     "output_type": "stream",
     "text": [
      "advantage drawing a thighmaster all hanging lamps in a playground for a glimpse into every corner of new study published in surprise ba scene monica exits robbie okay i love is used monica how much better in a woman for them hockey the ground local band and offer free gift of goods festivals were encoded in sales after being featured on phone lizzie did you know hes really so you mean youre gonna be incredibly lucky to perform calculations far beyond the air freshener and it in england the guy who embarks on the rockies to hear the holidays coming through\n"
     ]
    }
   ],
   "source": [
    "def generate_text(chain, n=1, length=50):\n",
    "    start = random.choice(list(chain.keys()))\n",
    "    result = list(start)\n",
    "    \n",
    "    for _ in range(length):\n",
    "        key = tuple(result[-n:])\n",
    "        next_word = random.choice(chain.get(key, ['']))\n",
    "        result.append(next_word)\n",
    "    \n",
    "    return ' '.join(result)\n",
    "\n",
    "generated_text = generate_text(chain, n=1, length=100)\n",
    "print(generated_text)\n"
   ]
  },
  {
   "cell_type": "code",
   "execution_count": 4,
   "id": "fcc31be8",
   "metadata": {
    "execution": {
     "iopub.execute_input": "2025-05-10T15:53:53.567606Z",
     "iopub.status.busy": "2025-05-10T15:53:53.567404Z",
     "iopub.status.idle": "2025-05-10T15:53:53.584046Z",
     "shell.execute_reply": "2025-05-10T15:53:53.583482Z"
    },
    "papermill": {
     "duration": 0.019368,
     "end_time": "2025-05-10T15:53:53.585001",
     "exception": false,
     "start_time": "2025-05-10T15:53:53.565633",
     "status": "completed"
    },
    "tags": []
   },
   "outputs": [
    {
     "name": "stdout",
     "output_type": "stream",
     "text": [
      "all hanging out in breathtaking grandeur from the arid sahara into a savanna teeming with wildlife nepal offers a unique experience whether youre a shoe youre a shoe and today i just wanna be married again rachel enters rachel barry im sorry opening credits scene monica and paul are eating monica oh wait wait unless you happened to catch fish puffins and whales the faroe islands were a place where time seemed to take action rising sea levels extreme weather events and mass extinctions are just like that ross is pacing while joey and chandler happily starts to cry oh shut up\n"
     ]
    }
   ],
   "source": [
    "chain = build_markov_chain(words, n=2)\n",
    "generated_text = generate_text(chain, n=2, length=100)\n",
    "print(generated_text)\n"
   ]
  }
 ],
 "metadata": {
  "kaggle": {
   "accelerator": "nvidiaTeslaT4",
   "dataSources": [
    {
     "datasetId": 4159956,
     "sourceId": 7193565,
     "sourceType": "datasetVersion"
    }
   ],
   "dockerImageVersionId": 31011,
   "isGpuEnabled": true,
   "isInternetEnabled": true,
   "language": "python",
   "sourceType": "notebook"
  },
  "kernelspec": {
   "display_name": "Python 3",
   "language": "python",
   "name": "python3"
  },
  "language_info": {
   "codemirror_mode": {
    "name": "ipython",
    "version": 3
   },
   "file_extension": ".py",
   "mimetype": "text/x-python",
   "name": "python",
   "nbconvert_exporter": "python",
   "pygments_lexer": "ipython3",
   "version": "3.11.11"
  },
  "papermill": {
   "default_parameters": {},
   "duration": 5.93857,
   "end_time": "2025-05-10T15:53:53.902623",
   "environment_variables": {},
   "exception": null,
   "input_path": "__notebook__.ipynb",
   "output_path": "__notebook__.ipynb",
   "parameters": {},
   "start_time": "2025-05-10T15:53:47.964053",
   "version": "2.6.0"
  }
 },
 "nbformat": 4,
 "nbformat_minor": 5
}
